{
 "cells": [
  {
   "cell_type": "markdown",
   "id": "b0c488ac",
   "metadata": {},
   "source": [
    "Obtaining list of characters from the Witcher Wiki"
   ]
  },
  {
   "cell_type": "code",
   "execution_count": 1,
   "id": "b5ba0c67",
   "metadata": {},
   "outputs": [],
   "source": [
    "import time\n",
    "import pandas as pd\n",
    "from selenium import webdriver\n",
    "from webdriver_manager.chrome import ChromeDriverManager\n",
    "import matplotlib.pyplot as plt"
   ]
  },
  {
   "cell_type": "code",
   "execution_count": 2,
   "id": "5c5f447a",
   "metadata": {},
   "outputs": [
    {
     "name": "stdout",
     "output_type": "stream",
     "text": [
      "\n"
     ]
    },
    {
     "name": "stderr",
     "output_type": "stream",
     "text": [
      "[WDM] - ====== WebDriver manager ======\n",
      "[WDM] - Current google-chrome version is 102.0.5005\n",
      "[WDM] - Get LATEST chromedriver version for 102.0.5005 google-chrome\n",
      "[WDM] - Driver [C:\\Users\\chipmunk\\.wdm\\drivers\\chromedriver\\win32\\102.0.5005.61\\chromedriver.exe] found in cache\n"
     ]
    }
   ],
   "source": [
    "driver = webdriver.Chrome(ChromeDriverManager().install())"
   ]
  },
  {
   "cell_type": "code",
   "execution_count": 3,
   "id": "d117cc63",
   "metadata": {},
   "outputs": [],
   "source": [
    "page_url = 'https://witcher.fandom.com/wiki/Category:Characters_in_the_stories'\n",
    "driver.get(page_url)"
   ]
  },
  {
   "cell_type": "code",
   "execution_count": 4,
   "id": "a880b248",
   "metadata": {},
   "outputs": [],
   "source": [
    "# the books\n",
    "book_categories = driver.find_elements_by_class_name('category-page__member-link')"
   ]
  },
  {
   "cell_type": "code",
   "execution_count": 5,
   "id": "b10bd165",
   "metadata": {},
   "outputs": [
    {
     "data": {
      "text/plain": [
       "[<selenium.webdriver.remote.webelement.WebElement (session=\"70a48f8eaca13798a74e147c94c9951d\", element=\"33fdea08-6b08-40b7-95e0-96b270025bfb\")>,\n",
       " <selenium.webdriver.remote.webelement.WebElement (session=\"70a48f8eaca13798a74e147c94c9951d\", element=\"8bd43831-6fb5-4033-91dc-2bee7d6736b1\")>,\n",
       " <selenium.webdriver.remote.webelement.WebElement (session=\"70a48f8eaca13798a74e147c94c9951d\", element=\"f6e668a6-3c72-4454-a8b7-d43e947d47f0\")>,\n",
       " <selenium.webdriver.remote.webelement.WebElement (session=\"70a48f8eaca13798a74e147c94c9951d\", element=\"6ea32bf6-c084-49b5-8e9c-2e1058d2da6b\")>,\n",
       " <selenium.webdriver.remote.webelement.WebElement (session=\"70a48f8eaca13798a74e147c94c9951d\", element=\"6946247c-834a-4cac-acdd-4786941efc3e\")>,\n",
       " <selenium.webdriver.remote.webelement.WebElement (session=\"70a48f8eaca13798a74e147c94c9951d\", element=\"f73e31e5-9c2b-49c0-aec2-72ee837fc63f\")>,\n",
       " <selenium.webdriver.remote.webelement.WebElement (session=\"70a48f8eaca13798a74e147c94c9951d\", element=\"b65d8166-639d-4043-81fd-4c776d240602\")>,\n",
       " <selenium.webdriver.remote.webelement.WebElement (session=\"70a48f8eaca13798a74e147c94c9951d\", element=\"74938751-7c73-42b5-a614-ae70120f945e\")>,\n",
       " <selenium.webdriver.remote.webelement.WebElement (session=\"70a48f8eaca13798a74e147c94c9951d\", element=\"4f27796b-e7af-4ca6-b91b-c8c20310ddcf\")>,\n",
       " <selenium.webdriver.remote.webelement.WebElement (session=\"70a48f8eaca13798a74e147c94c9951d\", element=\"1dcf192d-4a91-4c12-ab13-e9a5185c75f3\")>,\n",
       " <selenium.webdriver.remote.webelement.WebElement (session=\"70a48f8eaca13798a74e147c94c9951d\", element=\"e589b9d2-7d6b-4bc6-9a57-951ddbd12e47\")>,\n",
       " <selenium.webdriver.remote.webelement.WebElement (session=\"70a48f8eaca13798a74e147c94c9951d\", element=\"33120b96-1366-4a25-91a5-dd9f70ee4f27\")>]"
      ]
     },
     "execution_count": 5,
     "metadata": {},
     "output_type": "execute_result"
    }
   ],
   "source": [
    "book_categories"
   ]
  },
  {
   "cell_type": "code",
   "execution_count": 6,
   "id": "d19922a3",
   "metadata": {},
   "outputs": [
    {
     "data": {
      "text/plain": [
       "'Category:Baptism of Fire characters'"
      ]
     },
     "execution_count": 6,
     "metadata": {},
     "output_type": "execute_result"
    }
   ],
   "source": [
    "# check the first one\n",
    "book_categories[0].text"
   ]
  },
  {
   "cell_type": "code",
   "execution_count": 7,
   "id": "067475d8",
   "metadata": {},
   "outputs": [
    {
     "data": {
      "text/plain": [
       "'https://witcher.fandom.com/wiki/Category:Baptism_of_Fire_characters'"
      ]
     },
     "execution_count": 7,
     "metadata": {},
     "output_type": "execute_result"
    }
   ],
   "source": [
    "book_categories[0].get_attribute('href')"
   ]
  },
  {
   "cell_type": "code",
   "execution_count": 8,
   "id": "34a64b50",
   "metadata": {},
   "outputs": [],
   "source": [
    "driver.get('https://witcher.fandom.com/wiki/Category:Baptism_of_Fire_characters')"
   ]
  },
  {
   "cell_type": "code",
   "execution_count": 9,
   "id": "84affcee",
   "metadata": {},
   "outputs": [],
   "source": [
    "# this page has the list of characters for this book\n",
    "character_elems = driver.find_elements_by_class_name('category-page__member-link')"
   ]
  },
  {
   "cell_type": "code",
   "execution_count": 10,
   "id": "a3e2e4a8",
   "metadata": {},
   "outputs": [
    {
     "data": {
      "text/plain": [
       "'Adalia'"
      ]
     },
     "execution_count": 10,
     "metadata": {},
     "output_type": "execute_result"
    }
   ],
   "source": [
    "character_elems[0].text"
   ]
  },
  {
   "cell_type": "code",
   "execution_count": 11,
   "id": "a26ceae4",
   "metadata": {},
   "outputs": [
    {
     "name": "stdout",
     "output_type": "stream",
     "text": [
      "\n"
     ]
    },
    {
     "name": "stderr",
     "output_type": "stream",
     "text": [
      "[WDM] - ====== WebDriver manager ======\n",
      "[WDM] - Current google-chrome version is 102.0.5005\n",
      "[WDM] - Get LATEST chromedriver version for 102.0.5005 google-chrome\n",
      "[WDM] - Driver [C:\\Users\\chipmunk\\.wdm\\drivers\\chromedriver\\win32\\102.0.5005.61\\chromedriver.exe] found in cache\n"
     ]
    }
   ],
   "source": [
    "# Loop over all the books and extract all the characters\n",
    "\n",
    "# Create driver\n",
    "driver = webdriver.Chrome(ChromeDriverManager().install())\n",
    "\n",
    "# Go to webpage\n",
    "page_url = 'https://witcher.fandom.com/wiki/Category:Characters_in_the_stories'\n",
    "driver.get(page_url)\n",
    "time.sleep(5) # allow delay for page to fully load\n",
    "\n",
    "# uncomment the following line if there's a cookie accept requirement, this will click the button\n",
    "## driver.find_element(By.XPATH, '//div[text()=\"ACCEPT\"]').click()\n",
    "\n",
    "# Find Books\n",
    "book_categories = driver.find_elements_by_class_name('category-page__member-link')\n",
    "\n",
    "books = []\n",
    "for category in book_categories:\n",
    "    book_url = category.get_attribute('href')\n",
    "    book_name = category.text\n",
    "    books.append({'book_name': book_name, 'url': book_url})"
   ]
  },
  {
   "cell_type": "code",
   "execution_count": 12,
   "id": "bf114fca",
   "metadata": {},
   "outputs": [
    {
     "data": {
      "text/plain": [
       "[{'book_name': 'Category:Baptism of Fire characters',\n",
       "  'url': 'https://witcher.fandom.com/wiki/Category:Baptism_of_Fire_characters'},\n",
       " {'book_name': 'Category:Blood of Elves characters',\n",
       "  'url': 'https://witcher.fandom.com/wiki/Category:Blood_of_Elves_characters'},\n",
       " {'book_name': \"Godamba Thaess'en\",\n",
       "  'url': 'https://witcher.fandom.com/wiki/Godamba_Thaess%27en'},\n",
       " {'book_name': 'Category:Season of Storms characters',\n",
       "  'url': 'https://witcher.fandom.com/wiki/Category:Season_of_Storms_characters'},\n",
       " {'book_name': 'Category:Something Ends, Something Begins characters',\n",
       "  'url': 'https://witcher.fandom.com/wiki/Category:Something_Ends,_Something_Begins_characters'},\n",
       " {'book_name': 'Category:Sword of Destiny characters',\n",
       "  'url': 'https://witcher.fandom.com/wiki/Category:Sword_of_Destiny_characters'},\n",
       " {'book_name': 'Category:Szpony i kły characters',\n",
       "  'url': 'https://witcher.fandom.com/wiki/Category:Szpony_i_k%C5%82y_characters'},\n",
       " {'book_name': 'Category:Tales from the world of The Witcher characters',\n",
       "  'url': 'https://witcher.fandom.com/wiki/Category:Tales_from_the_world_of_The_Witcher_characters'},\n",
       " {'book_name': 'Category:The Lady of the Lake characters',\n",
       "  'url': 'https://witcher.fandom.com/wiki/Category:The_Lady_of_the_Lake_characters'},\n",
       " {'book_name': 'Category:The Last Wish characters',\n",
       "  'url': 'https://witcher.fandom.com/wiki/Category:The_Last_Wish_characters'},\n",
       " {'book_name': 'Category:The Tower of the Swallow characters',\n",
       "  'url': 'https://witcher.fandom.com/wiki/Category:The_Tower_of_the_Swallow_characters'},\n",
       " {'book_name': 'Category:Time of Contempt characters',\n",
       "  'url': 'https://witcher.fandom.com/wiki/Category:Time_of_Contempt_characters'}]"
      ]
     },
     "execution_count": 12,
     "metadata": {},
     "output_type": "execute_result"
    }
   ],
   "source": [
    "books"
   ]
  },
  {
   "cell_type": "code",
   "execution_count": 13,
   "id": "a93432ae",
   "metadata": {},
   "outputs": [],
   "source": [
    "# go into each book page and get character names\n",
    "character_list = []\n",
    "for book in books:\n",
    "    driver.get(book['url'])\n",
    "    character_elems = driver.find_elements_by_class_name('category-page__member-link')\n",
    "    for elem in character_elems:\n",
    "        character_list.append({'book': book['book_name'], 'character': elem.text})"
   ]
  },
  {
   "cell_type": "code",
   "execution_count": 14,
   "id": "50cc77de",
   "metadata": {},
   "outputs": [
    {
     "data": {
      "text/html": [
       "<div>\n",
       "<style scoped>\n",
       "    .dataframe tbody tr th:only-of-type {\n",
       "        vertical-align: middle;\n",
       "    }\n",
       "\n",
       "    .dataframe tbody tr th {\n",
       "        vertical-align: top;\n",
       "    }\n",
       "\n",
       "    .dataframe thead th {\n",
       "        text-align: right;\n",
       "    }\n",
       "</style>\n",
       "<table border=\"1\" class=\"dataframe\">\n",
       "  <thead>\n",
       "    <tr style=\"text-align: right;\">\n",
       "      <th></th>\n",
       "      <th>book</th>\n",
       "      <th>character</th>\n",
       "    </tr>\n",
       "  </thead>\n",
       "  <tbody>\n",
       "    <tr>\n",
       "      <th>0</th>\n",
       "      <td>Category:Baptism of Fire characters</td>\n",
       "      <td>Adalia</td>\n",
       "    </tr>\n",
       "    <tr>\n",
       "      <th>1</th>\n",
       "      <td>Category:Baptism of Fire characters</td>\n",
       "      <td>Adela</td>\n",
       "    </tr>\n",
       "    <tr>\n",
       "      <th>2</th>\n",
       "      <td>Category:Baptism of Fire characters</td>\n",
       "      <td>Aen Saevherne</td>\n",
       "    </tr>\n",
       "    <tr>\n",
       "      <th>3</th>\n",
       "      <td>Category:Baptism of Fire characters</td>\n",
       "      <td>Aevenien</td>\n",
       "    </tr>\n",
       "    <tr>\n",
       "      <th>4</th>\n",
       "      <td>Category:Baptism of Fire characters</td>\n",
       "      <td>Aglaïs</td>\n",
       "    </tr>\n",
       "    <tr>\n",
       "      <th>...</th>\n",
       "      <td>...</td>\n",
       "      <td>...</td>\n",
       "    </tr>\n",
       "    <tr>\n",
       "      <th>1269</th>\n",
       "      <td>Category:Time of Contempt characters</td>\n",
       "      <td>Yanna of Murivel</td>\n",
       "    </tr>\n",
       "    <tr>\n",
       "      <th>1270</th>\n",
       "      <td>Category:Time of Contempt characters</td>\n",
       "      <td>Yarpen Zigrin</td>\n",
       "    </tr>\n",
       "    <tr>\n",
       "      <th>1271</th>\n",
       "      <td>Category:Time of Contempt characters</td>\n",
       "      <td>Yennefer of Vengerberg</td>\n",
       "    </tr>\n",
       "    <tr>\n",
       "      <th>1272</th>\n",
       "      <td>Category:Time of Contempt characters</td>\n",
       "      <td>Yiolenta Suarez</td>\n",
       "    </tr>\n",
       "    <tr>\n",
       "      <th>1273</th>\n",
       "      <td>Category:Time of Contempt characters</td>\n",
       "      <td>Zyvik</td>\n",
       "    </tr>\n",
       "  </tbody>\n",
       "</table>\n",
       "<p>1274 rows × 2 columns</p>\n",
       "</div>"
      ],
      "text/plain": [
       "                                      book               character\n",
       "0      Category:Baptism of Fire characters                  Adalia\n",
       "1      Category:Baptism of Fire characters                   Adela\n",
       "2      Category:Baptism of Fire characters           Aen Saevherne\n",
       "3      Category:Baptism of Fire characters                Aevenien\n",
       "4      Category:Baptism of Fire characters                  Aglaïs\n",
       "...                                    ...                     ...\n",
       "1269  Category:Time of Contempt characters        Yanna of Murivel\n",
       "1270  Category:Time of Contempt characters           Yarpen Zigrin\n",
       "1271  Category:Time of Contempt characters  Yennefer of Vengerberg\n",
       "1272  Category:Time of Contempt characters         Yiolenta Suarez\n",
       "1273  Category:Time of Contempt characters                   Zyvik\n",
       "\n",
       "[1274 rows x 2 columns]"
      ]
     },
     "execution_count": 14,
     "metadata": {},
     "output_type": "execute_result"
    }
   ],
   "source": [
    "character_df = pd.DataFrame(character_list)\n",
    "character_df"
   ]
  },
  {
   "cell_type": "code",
   "execution_count": 15,
   "id": "d5535117",
   "metadata": {},
   "outputs": [
    {
     "data": {
      "image/png": "[encoded data removed]",
      "text/plain": [
       "<Figure size 432x288 with 1 Axes>"
      ]
     },
     "metadata": {
      "needs_background": "light"
     },
     "output_type": "display_data"
    }
   ],
   "source": [
    "#some eda\n",
    "# number of characters per book\n",
    "character_df['book'].value_counts().plot(kind='barh')\n",
    "plt.show()"
   ]
  },
  {
   "cell_type": "code",
   "execution_count": 16,
   "id": "f63425e5",
   "metadata": {},
   "outputs": [],
   "source": [
    "# export to csv\n",
    "character_df.to_csv('./data/witcher_characters.csv', index=False)"
   ]
  },
  {
   "cell_type": "code",
   "execution_count": null,
   "id": "8fa10d50",
   "metadata": {},
   "outputs": [],
   "source": []
  }
 ],
 "metadata": {
  "kernelspec": {
   "display_name": "Python 3 (ipykernel)",
   "language": "python",
   "name": "python3"
  },
  "language_info": {
   "codemirror_mode": {
    "name": "ipython",
    "version": 3
   },
   "file_extension": ".py",
   "mimetype": "text/x-python",
   "name": "python",
   "nbconvert_exporter": "python",
   "pygments_lexer": "ipython3",
   "version": "3.9.5"
  }
 },
 "nbformat": 4,
 "nbformat_minor": 5
}
